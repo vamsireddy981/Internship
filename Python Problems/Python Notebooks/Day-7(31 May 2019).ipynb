{
 "cells": [
  {
   "cell_type": "markdown",
   "metadata": {},
   "source": [
    "# Artificial Intelligence & Machine Learning\n",
    "## Day  :7\n",
    "## Date :31 May 2019"
   ]
  },
  {
   "cell_type": "markdown",
   "metadata": {},
   "source": [
    "### Problem 1:\n",
    "#### Problem Statement\n",
    "How many runs of  Dhoni  On 4/23/2008  Chennai Super Kings vs Mumbai Indians Match "
   ]
  },
  {
   "cell_type": "code",
   "execution_count": 14,
   "metadata": {},
   "outputs": [
    {
     "name": "stdout",
     "output_type": "stream",
     "text": [
      "[12862]\n",
      "30\n",
      "1.675969749999922\n"
     ]
    }
   ],
   "source": [
    "import pandas as pd\n",
    "import timeit\n",
    "start=timeit.default_timer()\n",
    "class ad():\n",
    "    def csk(data):\n",
    "        df=pd.read_csv('DataFiles/Player_match.csv')\n",
    "        df1=pd.read_csv('DataFiles/Ball_By_Ball.csv')\n",
    "        a,c=[],[]\n",
    "        for i in df.values:\n",
    "            if i[4]=='MS Dhoni' and i[2]==335994:\n",
    "                a.append(i[0])\n",
    "        print(a)\n",
    "        for j in df1.values:\n",
    "            if j[34]==a[0] and j[0]==335994 and j[27]==\"4/23/2008\" :\n",
    "                c.append(j[8])\n",
    "        print(sum(c))\n",
    "obj=ad()\n",
    "obj.csk()\n",
    "print(timeit.default_timer()-start)"
   ]
  },
  {
   "cell_type": "code",
   "execution_count": null,
   "metadata": {},
   "outputs": [],
   "source": []
  },
  {
   "cell_type": "markdown",
   "metadata": {},
   "source": [
    "### Problem 2:\n",
    "#### Problem Statement\n",
    "4/23/2008  Chennai Super Kings vs Mumbai Indians Match\n",
    " * Plot a bar graph for all the players in the   Mumbai Indians  team"
   ]
  },
  {
   "cell_type": "code",
   "execution_count": 3,
   "metadata": {},
   "outputs": [
    {
     "name": "stdout",
     "output_type": "stream",
     "text": [
      "1.9652569060000005\n"
     ]
    },
    {
     "data": {
      "image/png": "[encoded data removed]",
      "text/plain": [
       "<Figure size 432x288 with 1 Axes>"
      ]
     },
     "metadata": {
      "needs_background": "light"
     },
     "output_type": "display_data"
    }
   ],
   "source": [
    "import matplotlib.pyplot as plt\n",
    "import pandas as pd\n",
    "import timeit\n",
    "start=timeit.default_timer()\n",
    "class ac():\n",
    "    def mi(data):\n",
    "        df=pd.read_csv('DataFiles/Player_match.csv')\n",
    "        df1=pd.read_csv('DataFiles/Ball_By_Ball.csv')\n",
    "        a,c,d,e,f,g,h,k,l,m,n,o,p=[],[],[],[],[],[],[],[],[],[],[],[],[]\n",
    "        for i in df.values:\n",
    "            if i[10]=='Mumbai Indians' and i[2]==335994:\n",
    "                a.append(i[4])\n",
    "        #print(a)\n",
    "        for j in df1.values:\n",
    "            if j[0]==335994 and j[27]==\"4/23/2008\" :\n",
    "                c.append(j[8])\n",
    "            if j[34]==12848:\n",
    "                d.append(j[8])\n",
    "            if j[34]==12849:\n",
    "                e.append(j[8])\n",
    "            if j[34]==12850:\n",
    "                f.append(j[8])\n",
    "            if j[34]==12851:\n",
    "                g.append(j[8])\n",
    "            if j[34]==12852:\n",
    "                h.append(j[8])\n",
    "            if j[34]==12853:\n",
    "                k.append(j[8])\n",
    "            if j[34]==12854:\n",
    "                l.append(j[8])\n",
    "            if j[34]==12855:\n",
    "                m.append(j[8])\n",
    "            if j[34]==12856:\n",
    "                n.append(j[8])\n",
    "            if j[34]==12847:\n",
    "                o.append(j[8])\n",
    "            if j[34]==12858:\n",
    "                p.append(j[8])\n",
    "        a1=(sum(d))\n",
    "        a2=(sum(e))\n",
    "        a3=(sum(f))\n",
    "        a4=(sum(g))\n",
    "        a5=(sum(h))\n",
    "        a6=(sum(k))\n",
    "        a7=(sum(l))\n",
    "        a8=(sum(m))\n",
    "        a9=(sum(n))\n",
    "        a10=(sum(o))\n",
    "        a11=(sum(p))\n",
    "        a12=(a1,a2,a3,a4,a5,a6,a7,a8,a9,a10,a11)\n",
    "        width=1/2\n",
    "        plt.bar(a,a12,width)\n",
    "        plt.xticks(a,fontsize=12,rotation=90)\n",
    "obj=ac()\n",
    "obj.mi()\n",
    "print(timeit.default_timer()-start)"
   ]
  },
  {
   "cell_type": "code",
   "execution_count": null,
   "metadata": {},
   "outputs": [],
   "source": []
  }
 ],
 "metadata": {
  "kernelspec": {
   "display_name": "Python 3",
   "language": "python",
   "name": "python3"
  },
  "language_info": {
   "codemirror_mode": {
    "name": "ipython",
    "version": 3
   },
   "file_extension": ".py",
   "mimetype": "text/x-python",
   "name": "python",
   "nbconvert_exporter": "python",
   "pygments_lexer": "ipython3",
   "version": "3.7.3"
  }
 },
 "nbformat": 4,
 "nbformat_minor": 2
}
