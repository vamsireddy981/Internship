{
 "cells": [
  {
   "cell_type": "markdown",
   "metadata": {},
   "source": [
    "# Artificial Intelligence & Machine Learning\n",
    "## Day  :7\n",
    "## Date :31 May 2019"
   ]
  },
  {
   "cell_type": "markdown",
   "metadata": {},
   "source": [
    "### Problem 1:\n",
    "#### Problem Statement\n",
    "How many runs of  Dhoni  On 4/23/2008  Chennai Super Kings vs Mumbai Indians Match "
   ]
  },
  {
   "cell_type": "code",
   "execution_count": 14,
   "metadata": {},
   "outputs": [
    {
     "name": "stdout",
     "output_type": "stream",
     "text": [
      "[12862]\n",
      "30\n",
      "1.675969749999922\n"
     ]
    }
   ],
   "source": [
    "import pandas as pd\n",
    "import timeit\n",
    "start=timeit.default_timer()\n",
    "class ad():\n",
    "    def csk(data):\n",
    "        df=pd.read_csv('DataFiles/Player_match.csv')\n",
    "        df1=pd.read_csv('DataFiles/Ball_By_Ball.csv')\n",
    "        a,c=[],[]\n",
    "        for i in df.values:\n",
    "            if i[4]=='MS Dhoni' and i[2]==335994:\n",
    "                a.append(i[0])\n",
    "        print(a)\n",
    "        for j in df1.values:\n",
    "            if j[34]==a[0] and j[0]==335994 and j[27]==\"4/23/2008\" :\n",
    "                c.append(j[8])\n",
    "        print(sum(c))\n",
    "obj=ad()\n",
    "obj.csk()\n",
    "print(timeit.default_timer()-start)"
   ]
  },
  {
   "cell_type": "code",
   "execution_count": null,
   "metadata": {},
   "outputs": [],
   "source": []
  }
 ],
 "metadata": {
  "kernelspec": {
   "display_name": "Python 3",
   "language": "python",
   "name": "python3"
  },
  "language_info": {
   "codemirror_mode": {
    "name": "ipython",
    "version": 3
   },
   "file_extension": ".py",
   "mimetype": "text/x-python",
   "name": "python",
   "nbconvert_exporter": "python",
   "pygments_lexer": "ipython3",
   "version": "3.7.3"
  }
 },
 "nbformat": 4,
 "nbformat_minor": 2
}
