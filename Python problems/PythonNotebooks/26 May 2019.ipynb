{
 "cells": [
  {
   "cell_type": "markdown",
   "metadata": {},
   "source": [
    "# Artificial Intelligence & Machine Learning\n",
    "## Day  :2\n",
    "## Date :26 May 2019"
   ]
  },
  {
   "cell_type": "markdown",
   "metadata": {},
   "source": [
    "### Day Outcomes\n",
    "   * Data Analysis of Mobile apps data"
   ]
  },
  {
   "cell_type": "markdown",
   "metadata": {},
   "source": [
    "### Problem 1:\n",
    "#### Problem Statement\n",
    "Compute the total number of unique apps from the dataset"
   ]
  },
  {
   "cell_type": "code",
   "execution_count": 1,
   "metadata": {},
   "outputs": [
    {
     "name": "stdout",
     "output_type": "stream",
     "text": [
      "Apps : 7197\n",
      "UniqueApps : 7195\n"
     ]
    }
   ],
   "source": [
    "import pandas as pd\n",
    "def uniqueapps(AppData):\n",
    "    df = pd.read_csv(AppData)\n",
    "    apps=[]\n",
    "    uniqueapps=[]\n",
    "    for i in df.values:\n",
    "        apps.append(i[2])\n",
    "    print('Apps :', len(apps))\n",
    "    uniqueapps=set(apps)\n",
    "    print('UniqueApps :', len(uniqueapps))\n",
    "    \n",
    "uniqueapps('DataFiles/AppleStore.csv')"
   ]
  },
  {
   "cell_type": "code",
   "execution_count": null,
   "metadata": {},
   "outputs": [],
   "source": []
  },
  {
   "cell_type": "markdown",
   "metadata": {},
   "source": [
    "### Problem 2:\n",
    "#### Problem Statement\n",
    "Print the Top 10 apps along with their rating based on the number of downloads(rating_count_tot)"
   ]
  },
  {
   "cell_type": "code",
   "execution_count": 3,
   "metadata": {},
   "outputs": [
    {
     "name": "stdout",
     "output_type": "stream",
     "text": [
      "Facebook = 3.5\n",
      "Instagram = 4.0\n",
      "Clash of Clans = 4.5\n",
      "Temple Run = 4.0\n",
      "Pandora - Music & Radio = 4.5\n",
      "Pinterest = 4.0\n",
      "Bible = 5.0\n",
      "Candy Crush Saga = 4.5\n",
      "Spotify Music = 4.5\n",
      "Angry Birds = 3.0\n"
     ]
    }
   ],
   "source": [
    "def top10(AppData):\n",
    "    top10,a= [],[]\n",
    "    \n",
    "    df = pd.read_csv(AppData)\n",
    "    for i in df.values:\n",
    "        top10.append(i[6])\n",
    "        top10.sort(reverse = True)\n",
    "        a=top10[:10]\n",
    "    for j in range(0,len(a)):\n",
    "        for i in df.values:\n",
    "            if i[6]==a[j]:\n",
    "                print(i[2],'=',i[9])\n",
    "top10('DataFiles/AppleStore.csv')"
   ]
  },
  {
   "cell_type": "code",
   "execution_count": null,
   "metadata": {},
   "outputs": [],
   "source": []
  },
  {
   "cell_type": "markdown",
   "metadata": {},
   "source": [
    "### Problem 3:\n",
    "#### Problem Statement\n",
    "Categorise the dataset based on content rating into the following\n",
    "    * Number of apps with content rating 4+\n",
    "    * Number of apps with content rating 9+\n",
    "    * Number of apps with content rating 12+\n",
    "    * Number of apps with content rating 17+"
   ]
  },
  {
   "cell_type": "code",
   "execution_count": 4,
   "metadata": {},
   "outputs": [
    {
     "name": "stdout",
     "output_type": "stream",
     "text": [
      "Number of apps with content rating 4+ = 4433\n",
      "Number of apps with content rating 9+ = 987\n",
      "Number of apps with content rating 12+ = 1155\n",
      "Number of apps with content rating 17+ = 622\n"
     ]
    }
   ],
   "source": [
    "def contentBased(AppData):\n",
    "    df = pd.read_csv(AppData)\n",
    "    genere1,genere2,genere3,genere4=[],[],[],[]\n",
    "    for i in df.values:\n",
    "        if (i[11]=='4+'):\n",
    "            genere1.append(i[2])\n",
    "        if (i[11]=='9+'):\n",
    "            genere2.append(i[2])\n",
    "        if (i[11]=='12+'):\n",
    "            genere3.append(i[2])\n",
    "        if (i[11]=='17+'):\n",
    "            genere4.append(i[2])\n",
    "    print('Number of apps with content rating 4+ =',len(genere1))\n",
    "    print('Number of apps with content rating 9+ =',len(genere2))\n",
    "    print('Number of apps with content rating 12+ =',len(genere3))\n",
    "    print('Number of apps with content rating 17+ =',len(genere4))\n",
    "contentBased('DataFiles/AppleStore.csv')"
   ]
  },
  {
   "cell_type": "code",
   "execution_count": null,
   "metadata": {},
   "outputs": [],
   "source": []
  }
 ],
 "metadata": {
  "kernelspec": {
   "display_name": "Python 3",
   "language": "python",
   "name": "python3"
  },
  "language_info": {
   "codemirror_mode": {
    "name": "ipython",
    "version": 3
   },
   "file_extension": ".py",
   "mimetype": "text/x-python",
   "name": "python",
   "nbconvert_exporter": "python",
   "pygments_lexer": "ipython3",
   "version": "3.7.3"
  }
 },
 "nbformat": 4,
 "nbformat_minor": 2
}
